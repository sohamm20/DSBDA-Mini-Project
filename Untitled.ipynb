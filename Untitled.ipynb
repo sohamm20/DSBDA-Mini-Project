{
 "cells": [
  {
   "cell_type": "code",
   "execution_count": null,
   "id": "3373e5b6",
   "metadata": {},
   "outputs": [],
   "source": [
    "#Importing the required Libraries\n",
    "import os\n",
    "import numpy as np\n",
    "import pandas as pd\n",
    "import random"
   ]
  },
  {
   "cell_type": "code",
   "execution_count": null,
   "id": "a1c234eb",
   "metadata": {},
   "outputs": [],
   "source": [
    "#Getting a list of files in the folder\n",
    "os.listdir()"
   ]
  },
  {
   "cell_type": "code",
   "execution_count": null,
   "id": "ca0dc1f3",
   "metadata": {},
   "outputs": [],
   "source": [
    "#Importing Dataset\n",
    "df1= pd.read_csv(\"ps7.csv\")"
   ]
  },
  {
   "cell_type": "code",
   "execution_count": null,
   "id": "6c2d941a",
   "metadata": {},
   "outputs": [],
   "source": [
    "df1"
   ]
  },
  {
   "cell_type": "code",
   "execution_count": null,
   "id": "b20af250",
   "metadata": {},
   "outputs": [],
   "source": [
    "df1.size"
   ]
  },
  {
   "cell_type": "code",
   "execution_count": null,
   "id": "c083e975",
   "metadata": {},
   "outputs": [],
   "source": [
    "#Exporting to Excel to make necessary changes\n",
    "df1.to_excel(\"df1.xlsx\")"
   ]
  },
  {
   "cell_type": "code",
   "execution_count": null,
   "id": "2cc28d15",
   "metadata": {},
   "outputs": [],
   "source": [
    "os.listdir()"
   ]
  },
  {
   "cell_type": "code",
   "execution_count": null,
   "id": "c42b727c",
   "metadata": {},
   "outputs": [],
   "source": [
    "df2= pd.read_excel(\"dfadv.xlsx\")"
   ]
  },
  {
   "cell_type": "code",
   "execution_count": null,
   "id": "d4a524cf",
   "metadata": {
    "scrolled": true
   },
   "outputs": [],
   "source": [
    "df2"
   ]
  },
  {
   "cell_type": "code",
   "execution_count": null,
   "id": "a1f1fc3b",
   "metadata": {},
   "outputs": [],
   "source": [
    "df3= df2.drop(['UDI'], axis=1)"
   ]
  },
  {
   "cell_type": "code",
   "execution_count": null,
   "id": "be9f4122",
   "metadata": {},
   "outputs": [],
   "source": [
    "df3"
   ]
  },
  {
   "cell_type": "code",
   "execution_count": null,
   "id": "2834d3de",
   "metadata": {},
   "outputs": [],
   "source": [
    "df4= df3.drop(['Unnamed: 0'], axis=1)"
   ]
  },
  {
   "cell_type": "code",
   "execution_count": null,
   "id": "565d5e50",
   "metadata": {},
   "outputs": [],
   "source": [
    "df5= df4.drop(['Product ID'], axis=1)"
   ]
  },
  {
   "cell_type": "code",
   "execution_count": null,
   "id": "8ae8b855",
   "metadata": {},
   "outputs": [],
   "source": [
    "df5"
   ]
  },
  {
   "cell_type": "code",
   "execution_count": null,
   "id": "bb430a87",
   "metadata": {},
   "outputs": [],
   "source": [
    "#Importing scikit learn to fit data to the model and seaborn for Visualization\n",
    "import sklearn\n",
    "import seaborn"
   ]
  },
  {
   "cell_type": "code",
   "execution_count": null,
   "id": "4989882f",
   "metadata": {},
   "outputs": [],
   "source": [
    "#Importing Train Test Split\n",
    "from sklearn.model_selection import train_test_split"
   ]
  },
  {
   "cell_type": "code",
   "execution_count": null,
   "id": "ab15a98a",
   "metadata": {},
   "outputs": [],
   "source": [
    "X= df5.drop(\"Failure Type\", axis=1)\n",
    "y= df5[\"Failure Type\"]"
   ]
  },
  {
   "cell_type": "code",
   "execution_count": null,
   "id": "d826016f",
   "metadata": {},
   "outputs": [],
   "source": [
    "from sklearn.ensemble import RandomForestRegressor"
   ]
  },
  {
   "cell_type": "code",
   "execution_count": null,
   "id": "6b4e5386",
   "metadata": {},
   "outputs": [],
   "source": [
    "#turning categories into numbers\n",
    "from sklearn.preprocessing import OneHotEncoder\n",
    "from sklearn.compose import ColumnTransformer\n",
    "\n",
    "categorical_features = [\"Type\",\"Target\"]\n",
    "one_hot = OneHotEncoder()\n",
    "transformer = ColumnTransformer([(\"one_hot\", one_hot, categorical_features)], remainder = \"passthrough\")\n",
    "transformed_X =transformer.fit_transform(X)\n",
    "transformed_X"
   ]
  },
  {
   "cell_type": "code",
   "execution_count": null,
   "id": "ba580942",
   "metadata": {},
   "outputs": [],
   "source": [
    "os.listdir()"
   ]
  },
  {
   "cell_type": "code",
   "execution_count": null,
   "id": "73609e00",
   "metadata": {},
   "outputs": [],
   "source": [
    "df6= pd.read_excel(\"dfadv3.xlsx\")"
   ]
  },
  {
   "cell_type": "code",
   "execution_count": null,
   "id": "ffca6a4b",
   "metadata": {},
   "outputs": [],
   "source": [
    "df6"
   ]
  },
  {
   "cell_type": "code",
   "execution_count": null,
   "id": "6f908d74",
   "metadata": {},
   "outputs": [],
   "source": [
    "df7= df6.drop(['Unnamed: 0'], axis=1)"
   ]
  },
  {
   "cell_type": "code",
   "execution_count": null,
   "id": "9810c9e9",
   "metadata": {},
   "outputs": [],
   "source": [
    "df8= df7.drop(['UDI'], axis=1)"
   ]
  },
  {
   "cell_type": "code",
   "execution_count": null,
   "id": "3e2ffcc2",
   "metadata": {},
   "outputs": [],
   "source": [
    "df9= df8.drop(['Product ID'], axis=1)"
   ]
  },
  {
   "cell_type": "code",
   "execution_count": null,
   "id": "7f9c0575",
   "metadata": {},
   "outputs": [],
   "source": [
    "df9"
   ]
  },
  {
   "cell_type": "code",
   "execution_count": null,
   "id": "3cf8d091",
   "metadata": {},
   "outputs": [],
   "source": [
    "df9.to_excel(\"final.xlsx\")"
   ]
  },
  {
   "cell_type": "code",
   "execution_count": null,
   "id": "5d237039",
   "metadata": {},
   "outputs": [],
   "source": []
  },
  {
   "cell_type": "code",
   "execution_count": null,
   "id": "c19cca81",
   "metadata": {},
   "outputs": [],
   "source": [
    "#turn categories into numbers\n",
    "from sklearn.preprocessing import OneHotEncoder\n",
    "from sklearn.compose import ColumnTransformer\n",
    "\n",
    "categorical_features = [\"Type\"]\n",
    "one_hot = OneHotEncoder()\n",
    "transformer = ColumnTransformer([(\"one_hot\", one_hot, categorical_features)], remainder = \"passthrough\")\n",
    "transformed_X =transformer.fit_transform(X)\n",
    "transformed_X"
   ]
  },
  {
   "cell_type": "code",
   "execution_count": null,
   "id": "460ad0e9",
   "metadata": {},
   "outputs": [],
   "source": [
    "X= df9.drop(\"0 Type\", axis=1)\n",
    "y= df9[\"0 Type\"]"
   ]
  },
  {
   "cell_type": "code",
   "execution_count": null,
   "id": "ceb130ae",
   "metadata": {},
   "outputs": [],
   "source": [
    "y"
   ]
  },
  {
   "cell_type": "code",
   "execution_count": null,
   "id": "7e3faf07",
   "metadata": {},
   "outputs": [],
   "source": [
    "np.random.seed(1)\n",
    "X_train, X_test, y_train, y_test = train_test_split(transformed_X, y , test_size = 0.3)"
   ]
  },
  {
   "cell_type": "code",
   "execution_count": null,
   "id": "e8e5e03e",
   "metadata": {
    "scrolled": false
   },
   "outputs": [],
   "source": [
    "from sklearn.ensemble import RandomForestRegressor\n",
    "model = RandomForestRegressor()\n",
    "model.fit(X_train, y_train)\n",
    "print(\"The accuracy of the Model is : \" )\n",
    "print(round(model.score(X_test, y_test)*100, 4), \"%\")"
   ]
  },
  {
   "cell_type": "code",
   "execution_count": 9,
   "id": "7bca6740",
   "metadata": {},
   "outputs": [
    {
     "name": "stdout",
     "output_type": "stream",
     "text": [
      "The accuracy of the Model is : \n",
      "91.0401\n"
     ]
    }
   ],
   "source": [
    "import os\n",
    "import numpy as np\n",
    "import pandas as pd\n",
    "import random\n",
    "import sklearn\n",
    "import seaborn\n",
    "\n",
    "\n",
    "from sklearn.model_selection import train_test_split\n",
    "from sklearn.ensemble import RandomForestRegressor\n",
    "df6= pd.read_excel(\"dfadv3.xlsx\")\n",
    "df7= df6.drop(['Unnamed: 0'], axis=1)\n",
    "df8= df7.drop(['UDI'], axis=1)\n",
    "df9= df8.drop(['Product ID'], axis=1)\n",
    "df9.to_excel(\"final.xlsx\")\n",
    "X= df9.drop(\"0 Type\", axis=1)\n",
    "y= df9[\"0 Type\"]\n",
    "\n",
    "\n",
    "from sklearn.preprocessing import OneHotEncoder\n",
    "from sklearn.compose import ColumnTransformer\n",
    "\n",
    "categorical_features = [\"Type\"]\n",
    "one_hot = OneHotEncoder()\n",
    "transformer = ColumnTransformer([(\"one_hot\", one_hot, categorical_features)], remainder = \"passthrough\")\n",
    "transformed_X =transformer.fit_transform(X)\n",
    "transformed_X\n",
    "\n",
    "np.random.seed(1)\n",
    "X_train, X_test, y_train, y_test = train_test_split(transformed_X, y , test_size = 0.3)\n",
    "\n",
    "from sklearn.ensemble import RandomForestRegressor\n",
    "model = RandomForestRegressor()\n",
    "model.fit(X_train, y_train)\n",
    "print(\"The accuracy of the Model is : \" )\n",
    "print(str(round(model.score(X_test, y_test)*100, 4)))\n",
    "\n",
    "# 298.2,308.4,1379,43.1,65,0\n"
   ]
  },
  {
   "cell_type": "code",
   "execution_count": 37,
   "id": "809230b7",
   "metadata": {
    "scrolled": true
   },
   "outputs": [
    {
     "name": "stdout",
     "output_type": "stream",
     "text": [
      "IMPORTANT: You are using gradio version 3.12.0, however version 3.14.0 is available, please upgrade.\n",
      "--------\n",
      "Running on local URL:  http://127.0.0.1:7891\n",
      "\n",
      "To create a public link, set `share=True` in `launch()`.\n"
     ]
    },
    {
     "data": {
      "text/html": [
       "<div><iframe src=\"http://127.0.0.1:7891/\" width=\"100%\" height=\"500\" allow=\"autoplay; camera; microphone; clipboard-read; clipboard-write;\" frameborder=\"0\" allowfullscreen></iframe></div>"
      ],
      "text/plain": [
       "<IPython.core.display.HTML object>"
      ]
     },
     "metadata": {},
     "output_type": "display_data"
    },
    {
     "data": {
      "text/plain": []
     },
     "execution_count": 37,
     "metadata": {},
     "output_type": "execute_result"
    },
    {
     "name": "stderr",
     "output_type": "stream",
     "text": [
      "C:\\Users\\Soham\\AppData\\Local\\Programs\\Python\\Python310\\lib\\site-packages\\sklearn\\base.py:450: UserWarning: X does not have valid feature names, but RandomForestRegressor was fitted with feature names\n",
      "  warnings.warn(\n",
      "C:\\Users\\Soham\\AppData\\Local\\Programs\\Python\\Python310\\lib\\site-packages\\sklearn\\base.py:450: UserWarning: X does not have valid feature names, but RandomForestRegressor was fitted with feature names\n",
      "  warnings.warn(\n"
     ]
    }
   ],
   "source": [
    "import gradio as gr\n",
    "def sketch_recognition(Temperature, Process_Temperature, Rotational_Speed, Torque , Tool_Wear, Target):\n",
    "    \n",
    "    ans = model.predict([[float(Temperature), float(Process_Temperature), float(Rotational_Speed), float(Torque) , float(Tool_Wear), float(Target)]])[0]\n",
    "    if round(ans) == 1:\n",
    "        return \"Vahicle is SAFE!!!\"\n",
    "    else:\n",
    "        return \"Vehicle will FAIL!!!\"\n",
    "    \n",
    "    \n",
    "gr.Interface(fn=sketch_recognition, inputs=[\"text\", \"text\",\"text\", \"text\", \"text\", \"text\"], outputs=\"text\").launch()\n",
    "\n",
    "\n"
   ]
  },
  {
   "cell_type": "code",
   "execution_count": null,
   "id": "03bf1abe",
   "metadata": {},
   "outputs": [],
   "source": []
  }
 ],
 "metadata": {
  "kernelspec": {
   "display_name": "Python 3 (ipykernel)",
   "language": "python",
   "name": "python3"
  },
  "language_info": {
   "codemirror_mode": {
    "name": "ipython",
    "version": 3
   },
   "file_extension": ".py",
   "mimetype": "text/x-python",
   "name": "python",
   "nbconvert_exporter": "python",
   "pygments_lexer": "ipython3",
   "version": "3.10.10"
  }
 },
 "nbformat": 4,
 "nbformat_minor": 5
}
